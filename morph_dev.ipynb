{
 "cells": [
  {
   "cell_type": "code",
   "execution_count": 19,
   "metadata": {},
   "outputs": [],
   "source": [
    "import os\n",
    "import numpy as np\n",
    "import argparse\n",
    "from pathlib import Path\n",
    "import open3d as o3d\n",
    "from ppm import Ppm\n",
    "from typing import Optional, Dict\n",
    "import zarr\n",
    "import dask\n",
    "import dask.array as da\n",
    "from tqdm import tqdm\n",
    "from dask_image.ndmorph import binary_closing\n",
    "from dask.diagnostics import ProgressBar\n",
    "import fastmorph\n",
    "import time\n",
    "import matplotlib.pyplot as plt\n",
    "from ipywidgets import interact, IntSlider"
   ]
  },
  {
   "cell_type": "code",
   "execution_count": 20,
   "metadata": {},
   "outputs": [],
   "source": [
    "def nonzero_chunks_zarr(zarr_path, chunk_size=256):\n",
    "\n",
    "    # zarr_array = zarr.open_array(zarr_path)# Load zarr as dask array\n",
    "    # z_array = zarr.open(zarr_path, mode='r')\n",
    "    chunks = (chunk_size,chunk_size,chunk_size)\n",
    "    stime = time.time()\n",
    "    data = da.from_zarr(zarr_path, chunks=chunks)\n",
    "    print(f\"Time to load zarr: {time.time() - stime:.2f}s\")\n",
    "    print(f\"Data shape: {data.shape}\")\n",
    "    print(f\"Data chunks: {data.chunks}\")\n",
    "    print(f\"Data dtype: {data.dtype}\")\n",
    "    print(f\"Number of chunks: {data.npartitions}\")\n",
    "    # print(f\"Memory usage: {data.nbytes / 1e9:.2f} GB\")    \n",
    "\n",
    "    # Define function to sum each block\n",
    "    def chunk_nonzero(block):\n",
    "        # Return array with same number of dimensions but size 1 in each dimension\n",
    "        return np.array([np.any(block)]).reshape((1,) * block.ndim)\n",
    "    \n",
    "    # Map the sum operation across all chunks and compute\n",
    "    with ProgressBar():\n",
    "        chunk_nonzero = data.map_blocks(chunk_nonzero, dtype=data.dtype).compute()\n",
    "\n",
    "    return chunk_nonzero"
   ]
  },
  {
   "cell_type": "code",
   "execution_count": 21,
   "metadata": {},
   "outputs": [
    {
     "name": "stdout",
     "output_type": "stream",
     "text": [
      "Time to load zarr: 0.00s\n",
      "Data shape: (14376, 8096, 7888)\n",
      "Data chunks: ((512, 512, 512, 512, 512, 512, 512, 512, 512, 512, 512, 512, 512, 512, 512, 512, 512, 512, 512, 512, 512, 512, 512, 512, 512, 512, 512, 512, 40), (512, 512, 512, 512, 512, 512, 512, 512, 512, 512, 512, 512, 512, 512, 512, 416), (512, 512, 512, 512, 512, 512, 512, 512, 512, 512, 512, 512, 512, 512, 512, 208))\n",
      "Data dtype: uint8\n",
      "Number of chunks: 7424\n"
     ]
    }
   ],
   "source": [
    "zarr_path = '/Users/jamesdarby/Documents/VesuviusScroll/GP/labels_2D_to_3D/s1_791um_label.zarr'\n",
    "chunk_size = 512\n",
    "chunk_nonzero = nonzero_chunks_zarr(zarr_path, chunk_size)\n",
    "#58s 1024 chunks nonzero\n",
    "#50s 512 chunks nonzero\n",
    "#42s 256 chunks nonzero???\n",
    "#128 chunks takes forever\n"
   ]
  },
  {
   "cell_type": "code",
   "execution_count": 22,
   "metadata": {},
   "outputs": [
    {
     "name": "stdout",
     "output_type": "stream",
     "text": [
      "(29, 16, 16)\n",
      "88\n",
      "bool\n"
     ]
    }
   ],
   "source": [
    "print(chunk_nonzero.shape)\n",
    "print(chunk_nonzero.sum())\n",
    "print(chunk_nonzero.dtype)"
   ]
  },
  {
   "cell_type": "code",
   "execution_count": 23,
   "metadata": {},
   "outputs": [
    {
     "name": "stdout",
     "output_type": "stream",
     "text": [
      "(512, 512, 512) dask.array<blocks, shape=(512, 512, 512), dtype=uint8, chunksize=(512, 512, 512), chunktype=numpy.ndarray>\n",
      "Time to load zarr: 0.17s\n"
     ]
    },
    {
     "name": "stderr",
     "output_type": "stream",
     "text": [
      "/Users/jamesdarby/anaconda3/envs/2d3d/lib/python3.12/site-packages/zarr/creation.py:614: UserWarning: ignoring keyword argument 'read_only'\n",
      "  compressor, fill_value = _kwargs_compat(compressor, fill_value, kwargs)\n"
     ]
    }
   ],
   "source": [
    "chunks = (chunk_size,chunk_size,chunk_size)\n",
    "stime = time.time()\n",
    "data = da.from_zarr(zarr_path, chunks=chunks)\n",
    "z,y,x = np.where(chunk_nonzero)[0:3]\n",
    "z,y,x = z[10], y[10], x[10]\n",
    "chunk = data.blocks[z,y,x]\n",
    "chunk.compute()\n",
    "\n",
    "print(chunk.shape, chunk)\n",
    "print(f\"Time to load zarr: {time.time() - stime:.2f}s\")"
   ]
  },
  {
   "cell_type": "code",
   "execution_count": 24,
   "metadata": {},
   "outputs": [],
   "source": [
    "# Set middle planes to 128\n",
    "z_mid = chunk.shape[0] // 2\n",
    "y_mid = chunk.shape[1] // 2\n",
    "x_mid = chunk.shape[2] // 2\n",
    "\n",
    "chunk[z_mid,:,:] = 128  # z middle plane\n",
    "chunk[:,y_mid,:] = 128  # y middle plane \n",
    "chunk[:,:,x_mid] = 128  # x middle plane\n"
   ]
  },
  {
   "cell_type": "code",
   "execution_count": 25,
   "metadata": {},
   "outputs": [
    {
     "data": {
      "application/vnd.jupyter.widget-view+json": {
       "model_id": "64dbfde7aa7d431dbed9de54370a91fe",
       "version_major": 2,
       "version_minor": 0
      },
      "text/plain": [
       "interactive(children=(IntSlider(value=0, description='slice_index', max=511), IntSlider(value=1, description='…"
      ]
     },
     "metadata": {},
     "output_type": "display_data"
    },
    {
     "data": {
      "text/plain": [
       "<function __main__.plot_slice(slice_index, axis=0)>"
      ]
     },
     "execution_count": 25,
     "metadata": {},
     "output_type": "execute_result"
    }
   ],
   "source": [
    "plot_data = chunk\n",
    "def plot_slice(slice_index, axis=0):\n",
    "    plt.figure(figsize=(8, 6))\n",
    "    if axis == 1:\n",
    "        plt.imshow(plot_data[:,slice_index,:], cmap='gray')\n",
    "    elif axis == 2:\n",
    "        plt.imshow(plot_data[:,:,slice_index], cmap='gray')\n",
    "    else:\n",
    "        plt.imshow(plot_data[slice_index,:,:], cmap='gray')\n",
    "    plt.colorbar()\n",
    "    plt.title(f'Slice {slice_index}')\n",
    "    plt.show()\n",
    "\n",
    "# Create a slider to browse through slices\n",
    "interact(plot_slice, slice_index=IntSlider(min=0, max=plot_data.shape[0]-1, step=1, value=0), axis=IntSlider(min=0, max=2, step=1, value=1))"
   ]
  },
  {
   "cell_type": "code",
   "execution_count": 26,
   "metadata": {},
   "outputs": [
    {
     "name": "stdout",
     "output_type": "stream",
     "text": [
      "Time to close: 0.8644s\n"
     ]
    },
    {
     "data": {
      "application/vnd.jupyter.widget-view+json": {
       "model_id": "dc196acbb06f4ffa95b283cf53f25724",
       "version_major": 2,
       "version_minor": 0
      },
      "text/plain": [
       "interactive(children=(IntSlider(value=17, description='slice_index', max=511), IntSlider(value=1, description=…"
      ]
     },
     "metadata": {},
     "output_type": "display_data"
    },
    {
     "data": {
      "text/plain": [
       "<function __main__.plot_slice(slice_index, axis=0)>"
      ]
     },
     "execution_count": 26,
     "metadata": {},
     "output_type": "execute_result"
    }
   ],
   "source": [
    "radius = 16\n",
    "arr = chunk\n",
    "arr = np.pad(arr, pad_width=radius, mode='constant', constant_values=0)\n",
    "stime = time.time()\n",
    "arr = fastmorph.dilate(arr, parallel=8)\n",
    "arr = fastmorph.erode(arr, parallel=8)\n",
    "closed_chunk = arr[radius:-radius,radius:-radius,radius:-radius]\n",
    "print(f\"Time to close: {time.time() - stime:.4f}s\")\n",
    "\n",
    "plot_data = closed_chunk\n",
    "def plot_slice(slice_index, axis=0):\n",
    "    plt.figure(figsize=(8, 6))\n",
    "    if axis == 1:\n",
    "        plt.imshow(plot_data[:,slice_index,:], cmap='gray')\n",
    "    elif axis == 2:\n",
    "        plt.imshow(plot_data[:,:,slice_index], cmap='gray')\n",
    "    else:\n",
    "        plt.imshow(plot_data[slice_index,:,:], cmap='gray')\n",
    "    plt.colorbar()\n",
    "    plt.title(f'Slice {slice_index}')\n",
    "    plt.show()\n",
    "interact(plot_slice, slice_index=IntSlider(min=0, max=plot_data.shape[0]-1, step=1, value=radius+1), axis=IntSlider(min=0, max=2, step=1, value=1))"
   ]
  },
  {
   "cell_type": "code",
   "execution_count": 27,
   "metadata": {},
   "outputs": [
    {
     "name": "stdout",
     "output_type": "stream",
     "text": [
      "(562, 562, 562)\n"
     ]
    },
    {
     "data": {
      "application/vnd.jupyter.widget-view+json": {
       "model_id": "fe1375233be5417e878b5a3246f5935f",
       "version_major": 2,
       "version_minor": 0
      },
      "text/plain": [
       "interactive(children=(IntSlider(value=26, description='slice_index', max=561), IntSlider(value=1, description=…"
      ]
     },
     "metadata": {},
     "output_type": "display_data"
    },
    {
     "data": {
      "text/plain": [
       "<function __main__.plot_slice(slice_index, axis=0)>"
      ]
     },
     "execution_count": 27,
     "metadata": {},
     "output_type": "execute_result"
    }
   ],
   "source": [
    "radius = 25\n",
    "\n",
    "arr = np.array((chunk > 0))\n",
    "\n",
    "arr = np.pad(arr, pad_width=radius, mode='constant', constant_values=1)\n",
    "print(arr.shape)\n",
    "\n",
    "arr = fastmorph.dilate(arr, mode=fastmorph.Mode.grey)\n",
    "plot_data = arr\n",
    "def plot_slice(slice_index, axis=0):\n",
    "    plt.figure(figsize=(8, 6))\n",
    "    if axis == 1:\n",
    "        plt.imshow(plot_data[:,slice_index,:], cmap='gray')\n",
    "    elif axis == 2:\n",
    "        plt.imshow(plot_data[:,:,slice_index], cmap='gray')\n",
    "    else:\n",
    "        plt.imshow(plot_data[slice_index,:,:], cmap='gray')\n",
    "    plt.colorbar()\n",
    "    plt.title(f'Slice {slice_index}')\n",
    "    plt.show()\n",
    "interact(plot_slice, slice_index=IntSlider(min=0, max=plot_data.shape[0]-1, step=1, value=radius+1), axis=IntSlider(min=0, max=2, step=1, value=1))"
   ]
  },
  {
   "cell_type": "code",
   "execution_count": 28,
   "metadata": {},
   "outputs": [
    {
     "name": "stdout",
     "output_type": "stream",
     "text": [
      "bool\n",
      "(544, 544, 544)\n",
      "(512, 512, 512) bool\n",
      "Time to close: 1.0333s\n"
     ]
    }
   ],
   "source": [
    "# Pad chunk on all sides\n",
    "stime = time.time()\n",
    "radius = 16 #any radius lower than 16 seems to clip the borders into the data???\n",
    "arr = np.array((chunk > 0))\n",
    "# arr = arr[0:256,0:256,0:256]\n",
    "\n",
    "arr = np.pad(arr, pad_width=radius, mode='constant', constant_values=0)\n",
    "print(arr.dtype)\n",
    "print(arr.shape)\n",
    "arr = fastmorph.dilate(arr, parallel=8)\n",
    "arr = fastmorph.erode(arr, parallel=8)\n",
    "#1.8s 512 para 1\n",
    "\n",
    "# arr = fastmorph.closing(arr, parallel=2) \n",
    "#.28s 256 para 1\n",
    "#.24s 256 para 2\n",
    "#1.8s 512 para 1\n",
    "#1.2s 512 para 2\n",
    "#.88s 512 para 4\n",
    "\n",
    "closed_chunk = arr[radius:-radius,radius:-radius,radius:-radius]\n",
    "print(closed_chunk.shape, closed_chunk.dtype)\n",
    "print(f\"Time to close: {time.time() - stime:.4f}s\")"
   ]
  },
  {
   "cell_type": "code",
   "execution_count": 29,
   "metadata": {},
   "outputs": [
    {
     "data": {
      "application/vnd.jupyter.widget-view+json": {
       "model_id": "42e38db3c31e4dae87686400be502179",
       "version_major": 2,
       "version_minor": 0
      },
      "text/plain": [
       "interactive(children=(IntSlider(value=0, description='slice_index', max=511), IntSlider(value=1, description='…"
      ]
     },
     "metadata": {},
     "output_type": "display_data"
    },
    {
     "data": {
      "text/plain": [
       "<function __main__.plot_slice(slice_index, axis=0)>"
      ]
     },
     "execution_count": 29,
     "metadata": {},
     "output_type": "execute_result"
    }
   ],
   "source": [
    "plot_data = closed_chunk\n",
    "def plot_slice(slice_index, axis=0):\n",
    "    plt.figure(figsize=(8, 6))\n",
    "    if axis == 1:\n",
    "        plt.imshow(plot_data[:,slice_index,:], cmap='gray')\n",
    "    elif axis == 2:\n",
    "        plt.imshow(plot_data[:,:,slice_index], cmap='gray')\n",
    "    else:\n",
    "        plt.imshow(plot_data[slice_index,:,:], cmap='gray')\n",
    "    plt.colorbar()\n",
    "    plt.title(f'Slice {slice_index}')\n",
    "    plt.show()\n",
    "\n",
    "# Create a slider to browse through slices\n",
    "interact(plot_slice, slice_index=IntSlider(min=0, max=plot_data.shape[0]-1, step=1, value=0), axis=IntSlider(min=0, max=2, step=1, value=1))"
   ]
  },
  {
   "cell_type": "code",
   "execution_count": 30,
   "metadata": {},
   "outputs": [
    {
     "name": "stdout",
     "output_type": "stream",
     "text": [
      "Found 88 nonzero blocks\n",
      "First 5 block coordinates (z,y,x): [(19, 4, 3), (19, 4, 4), (19, 4, 5), (19, 4, 6), (19, 4, 7)]\n"
     ]
    }
   ],
   "source": [
    "# Get zyx block coordinates of nonzero blocks from the 3d mask array\n",
    "nonzero_coords = list(zip(*np.where(chunk_nonzero)))\n",
    "print(f\"Found {len(nonzero_coords)} nonzero blocks\")\n",
    "print(\"First 5 block coordinates (z,y,x):\", nonzero_coords[:5])\n"
   ]
  },
  {
   "cell_type": "code",
   "execution_count": 42,
   "metadata": {},
   "outputs": [
    {
     "name": "stdout",
     "output_type": "stream",
     "text": [
      "[########################################] | 100% Completed | 98.40 s\n"
     ]
    }
   ],
   "source": [
    "def morph_close_chunks_zarr(zarr_path, chunk_size=512, radius=16, parallel=1, zarr_name=\"closed_label.zarr\", morph_labels=[]):\n",
    "    chunks = (chunk_size,chunk_size,chunk_size)\n",
    "    data = da.from_zarr(zarr_path, chunks=chunks)\n",
    "\n",
    "    def morph_close_chunk(block):\n",
    "        # if morph labels is None or empty, process blocks with any nonzero values\n",
    "        if morph_labels is None or not morph_labels:\n",
    "            if not np.any(block):\n",
    "                return block\n",
    "        elif len(morph_labels) == 1:\n",
    "            if not (block == morph_labels[0]).any():\n",
    "                return block\n",
    "        else: \n",
    "            if not np.isin(block, morph_labels).any():\n",
    "                return block\n",
    "            \n",
    "        arr = np.array(block)  \n",
    "        arr = np.pad(arr, pad_width=radius, mode='constant', constant_values=0)\n",
    "        arr = fastmorph.dilate(arr, parallel=parallel)\n",
    "        arr = fastmorph.erode(arr, parallel=parallel)\n",
    "        return arr[radius:-radius,radius:-radius,radius:-radius]\n",
    "\n",
    "    \n",
    "    closed_data = data.map_blocks(morph_close_chunk, dtype=data.dtype, meta=True)#.compute(scheduler='processes')\n",
    "\n",
    "    with ProgressBar():\n",
    "        closed_data.to_zarr(zarr_name, compute=False, overwrite=True).compute(scheduler='processes')\n",
    "\n",
    "zarr_name = \"closed_s1_791um_label.zarr\"\n",
    "morph_labels = [] #pass empty list to morph all >0 values, specify list of labels to morph only those labels\n",
    "morph_close_chunks_zarr(zarr_path, chunk_size, radius, parallel=1, zarr_name=zarr_name, morph_labels=morph_labels)\n",
    "\n",
    "\n",
    "#90s to morph with no morph_labels (morph all >0 values); skip with .any()\n",
    "#2m18s to check single label with arr==val, .any()\n",
    "#3m6s to check multiple labels with np.isin"
   ]
  }
 ],
 "metadata": {
  "kernelspec": {
   "display_name": "2d3d",
   "language": "python",
   "name": "python3"
  },
  "language_info": {
   "codemirror_mode": {
    "name": "ipython",
    "version": 3
   },
   "file_extension": ".py",
   "mimetype": "text/x-python",
   "name": "python",
   "nbconvert_exporter": "python",
   "pygments_lexer": "ipython3",
   "version": "3.12.7"
  }
 },
 "nbformat": 4,
 "nbformat_minor": 2
}
